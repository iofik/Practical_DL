{
  "nbformat": 4,
  "nbformat_minor": 0,
  "metadata": {
    "kernelspec": {
      "display_name": "Python 3",
      "language": "python",
      "name": "python3"
    },
    "language_info": {
      "codemirror_mode": {
        "name": "ipython",
        "version": 3
      },
      "file_extension": ".py",
      "mimetype": "text/x-python",
      "name": "python",
      "nbconvert_exporter": "python",
      "pygments_lexer": "ipython3",
      "version": "3.8.5"
    },
    "notebookId": "65f9de61-b446-4240-9ae4-a038dd4de505",
    "colab": {
      "name": "homework_part2.ipynb",
      "provenance": [],
      "toc_visible": true
    },
    "accelerator": "GPU"
  },
  "cells": [
    {
      "cell_type": "markdown",
      "metadata": {
        "cellId": "rqbps0po5jh7gkaa2wqkbx",
        "id": "_rhBj1jdhuWX"
      },
      "source": [
        "# Homework 2.2: The Quest For A Better Network\n",
        "\n",
        "In this assignment you will build a monster network to solve Tiny ImageNet image classification.\n",
        "\n",
        "This notebook is intended as a sequel to seminar 3, please give it a try if you haven't done so yet."
      ]
    },
    {
      "cell_type": "markdown",
      "metadata": {
        "cellId": "wxpnt6bj6ame9olh8ah1j",
        "id": "eV2k5l01huWd"
      },
      "source": [
        "(please read it at least diagonally)\n",
        "\n",
        "* The ultimate quest is to create a network that has as high __accuracy__ as you can push it.\n",
        "* There is a __mini-report__ at the end that you will have to fill in. We recommend reading it first and filling it while you iterate.\n",
        " \n",
        "## Grading\n",
        "* starting at zero points\n",
        "* +20% for describing your iteration path in a report below.\n",
        "* +20% for building a network that gets above 20% accuracy\n",
        "* +10% for beating each of these milestones on __TEST__ dataset:\n",
        "    * 25% (50% points)\n",
        "    * 30% (60% points)\n",
        "    * 32.5% (70% points)\n",
        "    * 35% (80% points)\n",
        "    * 37.5% (90% points)\n",
        "    * 40% (full points)\n",
        "    \n",
        "## Restrictions\n",
        "* Please do NOT use pre-trained networks for this assignment until you reach 40%.\n",
        " * In other words, base milestones must be beaten without pre-trained nets (and such net must be present in the anytask atttachments). After that, you can use whatever you want.\n",
        "* you __can't__ do anything with validation data apart from running the evaluation procedure. Please, split train images on train and validation parts\n",
        "\n",
        "## Tips on what can be done:\n",
        "\n",
        "\n",
        " * __Network size__\n",
        "   * MOAR neurons, \n",
        "   * MOAR layers, ([torch.nn docs](http://pytorch.org/docs/master/nn.html))\n",
        "\n",
        "   * Nonlinearities in the hidden layers\n",
        "     * tanh, relu, leaky relu, etc\n",
        "   * Larger networks may take more epochs to train, so don't discard your net just because it could didn't beat the baseline in 5 epochs.\n",
        "\n",
        "   * Ph'nglui mglw'nafh Cthulhu R'lyeh wgah'nagl fhtagn!\n",
        "\n",
        "\n",
        "### The main rule of prototyping: one change at a time\n",
        "   * By now you probably have several ideas on what to change. By all means, try them out! But there's a catch: __never test several new things at once__.\n",
        "\n",
        "\n",
        "### Optimization\n",
        "   * Training for 100 epochs regardless of anything is probably a bad idea.\n",
        "   * Some networks converge over 5 epochs, others - over 500.\n",
        "   * Way to go: stop when validation score is 10 iterations past maximum\n",
        "   * You should certainly use adaptive optimizers\n",
        "     * rmsprop, nesterov_momentum, adam, adagrad and so on.\n",
        "     * Converge faster and sometimes reach better optima\n",
        "     * It might make sense to tweak learning rate/momentum, other learning parameters, batch size and number of epochs\n",
        "   * __BatchNormalization__ (nn.BatchNorm2d) for the win!\n",
        "     * Sometimes more batch normalization is better.\n",
        "   * __Regularize__ to prevent overfitting\n",
        "     * Add some L2 weight norm to the loss function, PyTorch will do the rest\n",
        "       * Can be done manually or like [this](https://discuss.pytorch.org/t/simple-l2-regularization/139/2).\n",
        "     * Dropout (`nn.Dropout`) - to prevent overfitting\n",
        "       * Don't overdo it. Check if it actually makes your network better\n",
        "   \n",
        "### Convolution architectures\n",
        "   * This task __can__ be solved by a sequence of convolutions and poolings with batch_norm and ReLU seasoning, but you shouldn't necessarily stop there.\n",
        "   * [Inception family](https://hacktilldawn.com/2016/09/25/inception-modules-explained-and-implemented/), [ResNet family](https://towardsdatascience.com/an-overview-of-resnet-and-its-variants-5281e2f56035?gi=9018057983ca), [Densely-connected convolutions (exotic)](https://arxiv.org/abs/1608.06993), [Capsule networks (exotic)](https://arxiv.org/abs/1710.09829)\n",
        "   * Please do try a few simple architectures before you go for resnet-152.\n",
        "   * Warning! Training convolutional networks can take long without GPU. That's okay.\n",
        "     * If you are CPU-only, we still recomment that you try a simple convolutional architecture\n",
        "     * a perfect option is if you can set it up to run at nighttime and check it up at the morning.\n",
        "     * Make reasonable layer size estimates. A 128-neuron first convolution is likely an overkill.\n",
        "     * __To reduce computation__ time by a factor in exchange for some accuracy drop, try using __stride__ parameter. A stride=2 convolution should take roughly 1/4 of the default (stride=1) one.\n",
        " \n",
        "   \n",
        "### Data augmemntation\n",
        "   * getting 5x as large dataset for free is a great \n",
        "     * Zoom-in+slice = move\n",
        "     * Rotate+zoom(to remove black stripes)\n",
        "     * Add Noize (gaussian or bernoulli)\n",
        "   * Simple way to do that (if you have PIL/Image): \n",
        "     * ```from scipy.misc import imrotate,imresize```\n",
        "     * and a few slicing\n",
        "     * Other cool libraries: cv2, skimake, PIL/Pillow\n",
        "   * A more advanced way is to use torchvision transforms:\n",
        "   \n",
        "    ```\n",
        "    transform_train = transforms.Compose([\n",
        "        transforms.RandomCrop(32, padding=4),\n",
        "        transforms.RandomHorizontalFlip(),\n",
        "        transforms.ToTensor(),\n",
        "        transforms.Normalize((0.4914, 0.4822, 0.4465), (0.2023, 0.1994, 0.2010)),\n",
        "    ])\n",
        "    trainset = torchvision.datasets.ImageFolder(root=path_to_tiny_imagenet, train=True, download=True, transform=transform_train)\n",
        "    trainloader = torch.utils.data.DataLoader(trainset, batch_size=128, shuffle=True, num_workers=2)\n",
        "    ```\n",
        "   \n",
        "   * Or use this tool from Keras (requires theano/tensorflow): [tutorial](https://blog.keras.io/building-powerful-image-classification-models-using-very-little-data.html), [docs](https://keras.io/preprocessing/image/)\n",
        "   * [Albumentations](https://github.com/albumentations-team/albumentations) is another awesome solution.\n",
        "   * Stay realistic. There's usually no point in flipping dogs upside down as that is not the way you usually see them.  \n",
        "    * But sometimes there is! Some examples of advanced image augmentation approaches: [mixup](https://arxiv.org/pdf/1710.09412.pdf), [cutmix](https://arxiv.org/pdf/1905.04899.pdf)   "
      ]
    },
    {
      "cell_type": "code",
      "metadata": {
        "cellId": "xkaa3usdky9sfz7upl02w",
        "id": "KAQ2RIi_huWe"
      },
      "source": [
        "#!L\n",
        "import numpy as np\n",
        "import matplotlib.pyplot as plt\n",
        "%matplotlib inline\n",
        "\n",
        "import torch, torch.nn as nn, torch.nn.functional as F\n",
        "from torch.utils.data import Dataset, DataLoader\n",
        "import torchvision, torchvision.transforms as transforms\n",
        "import os\n",
        "\n",
        "# Uncomment this to disable \"Skipping walk through <class 'list'>\" warnings in DataSphere's env\n",
        "# %enable_full_walk"
      ],
      "execution_count": 1,
      "outputs": []
    },
    {
      "cell_type": "code",
      "metadata": {
        "colab": {
          "base_uri": "https://localhost:8080/"
        },
        "id": "sWShvGcBiXU3",
        "outputId": "9c7acd88-acb3-4e8b-c805-4481b2ce29a3"
      },
      "source": [
        "if 'google.colab' in str(get_ipython()):\n",
        "    repo_path = os.path.join(os.getcwd(), 'Practical_DL/homework02')\n",
        "    if not os.path.isdir(repo_path):\n",
        "        import sys\n",
        "        !git clone https://github.com/iofik/Practical_DL.git\n",
        "        sys.path.append(repo_path)"
      ],
      "execution_count": 2,
      "outputs": [
        {
          "output_type": "stream",
          "text": [
            "Cloning into 'Practical_DL'...\n",
            "remote: Enumerating objects: 135, done.\u001b[K\n",
            "remote: Counting objects: 100% (135/135), done.\u001b[K\n",
            "remote: Compressing objects: 100% (108/108), done.\u001b[K\n",
            "remote: Total 3132 (delta 76), reused 62 (delta 27), pack-reused 2997\u001b[K\n",
            "Receiving objects: 100% (3132/3132), 174.70 MiB | 39.92 MiB/s, done.\n",
            "Resolving deltas: 100% (1644/1644), done.\n"
          ],
          "name": "stdout"
        }
      ]
    },
    {
      "cell_type": "code",
      "metadata": {
        "cellId": "mqe3vhwr7q85q3bi0b3rg",
        "colab": {
          "base_uri": "https://localhost:8080/"
        },
        "id": "Cwb9pWrghuWf",
        "outputId": "3c5e0453-c3d8-4548-8153-49d8425f4785"
      },
      "source": [
        "#!L\n",
        "# downloading TinyImagenet\n",
        "# you don't have to run this cell more than once\n",
        "\n",
        "from tiny_img import download_tinyImg200, fix_test_data\n",
        "data_path = '.'\n",
        "imagenet_dir = os.path.join(data_path, 'tiny-imagenet-200')\n",
        "if not os.path.isdir(imagenet_dir):\n",
        "    download_tinyImg200(data_path)\n",
        "    fix_test_data(data_path)"
      ],
      "execution_count": 3,
      "outputs": [
        {
          "output_type": "stream",
          "text": [
            "./tiny-imagenet-200.zip\n"
          ],
          "name": "stdout"
        }
      ]
    },
    {
      "cell_type": "markdown",
      "metadata": {
        "cellId": "xyur6yosaod4qmh89z4tcc",
        "id": "nuSzhVHRhuWf"
      },
      "source": [
        "We will split `tiny-imagenet-200/train` dataset into train and val parts, and use  `tiny-imagenet-200/val` dataset as a test one.\n",
        "\n",
        "You are free to use either the default ImageFolder Dataset, or the custom one, which will read and store the whole data in RAM. The second one is preferable only when you have a slow disk; make sure then you do have an extra couple of GiBs of memory (it also could take some time to load the images):"
      ]
    },
    {
      "cell_type": "code",
      "metadata": {
        "cellId": "zkftuthgyzg8r3sy9dbulo",
        "id": "39pfDuBIhuWg"
      },
      "source": [
        "#!L\n",
        "dataset = torchvision.datasets.ImageFolder(imagenet_dir + '/train', transform=transforms.ToTensor())\n",
        "train_dataset, val_dataset = torch.utils.data.random_split(dataset, [80000, 20000],\n",
        "                                                           generator=torch.Generator().manual_seed(42))\n",
        "test_dataset = torchvision.datasets.ImageFolder(imagenet_dir + '/val', transform=transforms.ToTensor())\n",
        "\n",
        "# OR\n",
        "\n",
        "# from tiny_img_ram import TinyImagenetRAM\n",
        "# dataset = TinyImagenetRAM('tiny-imagenet-200/train', transform=transforms.ToTensor())\n",
        "# train_dataset, val_dataset = torch.utils.data.random_split(dataset, [80000, 20000],\n",
        "#                                                            generator=torch.Generator().manual_seed(42))\n",
        "# test_dataset = TinyImagenetRAM('tiny-imagenet-200/val', transform=transforms.ToTensor())"
      ],
      "execution_count": 4,
      "outputs": []
    },
    {
      "cell_type": "code",
      "metadata": {
        "id": "Yhj59vpEhuWg"
      },
      "source": [
        "#!L\n",
        "def compute_loss(y_pred, y_batch):\n",
        "    return F.cross_entropy(y_pred, y_batch).mean()\n",
        "\n",
        "def get_device():\n",
        "    if torch.cuda.is_available():\n",
        "        device = torch.device('cuda:0')\n",
        "    else:\n",
        "        device = torch.device('cpu')\n",
        "    return device"
      ],
      "execution_count": 5,
      "outputs": []
    },
    {
      "cell_type": "code",
      "metadata": {
        "id": "0ASxSoRlhuWg"
      },
      "source": [
        "#!L\n",
        "from IPython import display\n",
        "\n",
        "def visualise_history(train_loss, val_accuracy=None):\n",
        "    display.clear_output(wait=True)\n",
        "    fig, ax1 = plt.subplots()\n",
        "\n",
        "    color = 'tab:blue'\n",
        "    ax1.set_xlabel(\"#iteration\")\n",
        "    ax1.set_ylabel(\"Training loss\", color=color)\n",
        "    ax1.plot(train_loss, color=color)\n",
        "    ax1.tick_params(axis='y', labelcolor=color)\n",
        "\n",
        "    if val_accuracy:\n",
        "        ax2 = ax1.twinx()\n",
        "\n",
        "        color = 'tab:red'\n",
        "        ax2.set_ylabel(\"Validation accuracy\", color=color)\n",
        "        ax2.plot(val_accuracy, color=color)\n",
        "        ax2.tick_params(axis='y', labelcolor=color)\n",
        "\n",
        "    fig.tight_layout()  # otherwise the right y-label is slightly clipped\n",
        "    plt.show()"
      ],
      "execution_count": 6,
      "outputs": []
    },
    {
      "cell_type": "code",
      "metadata": {
        "colab": {
          "base_uri": "https://localhost:8080/"
        },
        "id": "_H75qg-2huWh",
        "outputId": "cfbaaa40-b913-4d6f-924c-3dc8f8bad78a"
      },
      "source": [
        "#!L\n",
        "model = nn.Sequential(\n",
        "    nn.Conv2d(in_channels=3, out_channels=96, kernel_size=(11,11), stride=4),\n",
        "    nn.BatchNorm2d(96),\n",
        "    nn.ReLU(),\n",
        "    nn.Dropout(),\n",
        "    nn.Conv2d(in_channels=96, out_channels=192, kernel_size=(5,5), stride=2),\n",
        "    nn.BatchNorm2d(192),\n",
        "    nn.ReLU(),\n",
        "    nn.Dropout(),\n",
        "    nn.Conv2d(in_channels=192, out_channels=288, kernel_size=(3,3)),\n",
        "    nn.BatchNorm2d(288),\n",
        "    nn.ReLU(),\n",
        "    nn.Dropout(),\n",
        "    nn.Conv2d(in_channels=288, out_channels=288, kernel_size=(3,3)),\n",
        "    nn.ReLU(),\n",
        "    nn.Dropout(),\n",
        "    nn.Flatten(),\n",
        "    nn.Linear(288, 200),\n",
        "    nn.ReLU(),\n",
        "    nn.Dropout(),\n",
        "    nn.Linear(200, 200)\n",
        ")\n",
        "\n",
        "device = get_device()\n",
        "model.to(device)\n",
        "print(\"Device:\", device)\n",
        "\n",
        "opt = torch.optim.Adam(model.parameters(), lr=0.001)\n",
        "\n",
        "batch_size = 50\n",
        "\n",
        "train_batch_gen = torch.utils.data.DataLoader(train_dataset,\n",
        "                                              batch_size=batch_size,\n",
        "                                              shuffle=True,\n",
        "                                              num_workers=1)\n",
        "\n",
        "train_loss = []\n",
        "val_accuracy = []\n",
        "epoch_time = []"
      ],
      "execution_count": 7,
      "outputs": [
        {
          "output_type": "stream",
          "text": [
            "Device: cuda:0\n"
          ],
          "name": "stdout"
        }
      ]
    },
    {
      "cell_type": "code",
      "metadata": {
        "id": "JnXr6WQPCVwA"
      },
      "source": [
        "def compute_model_accuracy(dataset):\n",
        "    model.train(False) # disable dropout / use averages for batch_norm\n",
        "    batch_gen = torch.utils.data.DataLoader(dataset, batch_size=batch_size, num_workers=1)\n",
        "    epoch_accuracy = []\n",
        "    for X_batch, y_batch in batch_gen:\n",
        "        logits = model(X_batch.to(device=device))\n",
        "        y_pred = logits.max(1)[1].data\n",
        "        epoch_accuracy.append(y_batch.cpu() == y_pred.cpu())\n",
        "    return np.mean(np.hstack(epoch_accuracy))"
      ],
      "execution_count": 8,
      "outputs": []
    },
    {
      "cell_type": "code",
      "metadata": {
        "colab": {
          "base_uri": "https://localhost:8080/",
          "height": 348
        },
        "id": "FTv5BCiAhuWi",
        "outputId": "6eab6db3-d599-4147-c40e-b5672c5c2ec8"
      },
      "source": [
        "#!L\n",
        "import time\n",
        "\n",
        "def run_epoch():\n",
        "    start_time = time.time()\n",
        "    model.train(True) # enable dropout / batch_norm training behavior\n",
        "    epoch_loss = []\n",
        "    for X_batch, y_batch in train_batch_gen:\n",
        "        logits = model(X_batch.to(device=device))\n",
        "        loss = compute_loss(logits, y_batch.to(device=device))\n",
        "        loss.backward()\n",
        "        opt.step()\n",
        "        opt.zero_grad()\n",
        "        epoch_loss.append(loss.cpu().detach().numpy())\n",
        "        #visualise_history(list(map(float, epoch_loss)))\n",
        "    train_loss.append(np.mean(np.hstack(epoch_loss)))\n",
        "    val_accuracy.append(compute_model_accuracy(val_dataset))\n",
        "    epoch_time.append(time.time() - start_time)\n",
        "\n",
        "def show_info():\n",
        "    visualise_history(train_loss, val_accuracy)\n",
        "    print(\"Epoch {} took {:.3f}s ({:.3f}s total)\".format(\n",
        "        len(train_loss), epoch_time[-1], sum(epoch_time)))\n",
        "    print(\"  training loss (in-iteration): \\t{:.6f}\".format(train_loss[-1]))\n",
        "    print(\"  validation accuracy: \\t\\t\\t{:.2f} %\".format(val_accuracy[-1]*100))\n",
        "\n",
        "def run_training(num_epochs):\n",
        "    while len(train_loss) < num_epochs:\n",
        "        run_epoch()\n",
        "        show_info()\n",
        "    show_info()\n",
        "\n",
        "run_training(150)"
      ],
      "execution_count": 27,
      "outputs": [
        {
          "output_type": "display_data",
          "data": {
            "image/png": "[encoded data removed]",
            "text/plain": [
              "<Figure size 432x288 with 2 Axes>"
            ]
          },
          "metadata": {
            "tags": [],
            "needs_background": "light"
          }
        },
        {
          "output_type": "stream",
          "text": [
            "Epoch 150 took 41.049s (2057.822s total)\n",
            "  training loss (in-iteration): \t3.684758\n",
            "  validation accuracy: \t\t\t23.57 %\n"
          ],
          "name": "stdout"
        }
      ]
    },
    {
      "cell_type": "markdown",
      "metadata": {
        "cellId": "61mhdyw7guo0wuubi3ohc",
        "id": "6pl8XQLGhuWj"
      },
      "source": [
        "When everything is done, please calculate accuracy on `tiny-imagenet-200/val`"
      ]
    },
    {
      "cell_type": "code",
      "metadata": {
        "cellId": "9om7xr4hledgg42mo0h6r6",
        "id": "7TXnVOqohuWj"
      },
      "source": [
        "train_accuracy = compute_model_accuracy(train_dataset)\n",
        "test_accuracy = compute_model_accuracy(test_dataset)"
      ],
      "execution_count": 28,
      "outputs": []
    },
    {
      "cell_type": "code",
      "metadata": {
        "cellId": "12y9s3qrcpnsur64jcte8g",
        "colab": {
          "base_uri": "https://localhost:8080/"
        },
        "id": "RGI8nmsghuWj",
        "outputId": "c5e9115f-c2a1-467b-e25b-06003ea75253"
      },
      "source": [
        "print(\"Final results:\")\n",
        "print(\"  train accuracy:\\t\\t{:.2f} %\".format(train_accuracy * 100))\n",
        "print(\"  validation accuracy:\\t\\t{:.2f} %\".format(val_accuracy[-1] * 100))\n",
        "print(\"  test accuracy:\\t\\t{:.2f} %\".format(test_accuracy * 100))\n",
        "\n",
        "if test_accuracy * 100 > 40:\n",
        "    print(\"Achievement unlocked: 110lvl Warlock!\")\n",
        "elif test_accuracy * 100 > 35:\n",
        "    print(\"Achievement unlocked: 80lvl Warlock!\")\n",
        "elif test_accuracy * 100 > 30:\n",
        "    print(\"Achievement unlocked: 70lvl Warlock!\")\n",
        "elif test_accuracy * 100 > 25:\n",
        "    print(\"Achievement unlocked: 60lvl Warlock!\")\n",
        "else:\n",
        "    print(\"We need more magic! Follow instructons below\")"
      ],
      "execution_count": 29,
      "outputs": [
        {
          "output_type": "stream",
          "text": [
            "Final results:\n",
            "  train accuracy:\t\t29.75 %\n",
            "  validation accuracy:\t\t23.57 %\n",
            "  test accuracy:\t\t23.42 %\n",
            "We need more magic! Follow instructons below\n"
          ],
          "name": "stdout"
        }
      ]
    },
    {
      "cell_type": "markdown",
      "metadata": {
        "cellId": "yr08a2dr7ymtgsrdtpx4cf",
        "id": "pxE0NA8FhuWk"
      },
      "source": [
        "```\n",
        "\n",
        "```\n",
        "\n",
        "```\n",
        "\n",
        "```\n",
        "\n",
        "```\n",
        "\n",
        "```\n",
        "\n",
        "\n",
        "# Report\n",
        "\n",
        "All creative approaches are highly welcome, but at the very least it would be great to mention\n",
        "* the idea;\n",
        "* brief history of tweaks and improvements;\n",
        "* what is the final architecture and why?\n",
        "* what is the training method and, again, why?\n",
        "* Any regularizations and other techniques applied and their effects;\n",
        "\n",
        "\n",
        "There is no need to write strict mathematical proofs (unless you want to).\n",
        " * \"I tried this, this and this, and the second one turned out to be better. And i just didn't like the name of that one\" - OK, but can be better\n",
        " * \"I have analized these and these articles|sources|blog posts, tried that and that to adapt them to my problem and the conclusions are such and such\" - the ideal one\n",
        " * \"I took that code that demo without understanding it, but i'll never confess that and instead i'll make up some pseudoscientific explaination\" - __not_ok__"
      ]
    },
    {
      "cell_type": "code",
      "metadata": {
        "id": "CC9XSd-lxXIf"
      },
      "source": [
        ""
      ],
      "execution_count": null,
      "outputs": []
    },
    {
      "cell_type": "markdown",
      "metadata": {
        "cellId": "5o8ejms08zgpm096pducuk",
        "id": "bzplyBZKhuWk"
      },
      "source": [
        "### Hi, my name is `Vladimir Iofik`, and here's my story\n",
        "\n",
        "A long time ago in a galaxy far far away, when it was still more than an hour before the deadline, i got an idea:\n",
        "\n",
        "##### I gonna build a neural network, that\n",
        "* would have at least 50% accuracy on the test set\n",
        "* the original idea was to add a couple of convolution layers to the network to the network from the part1 and that would be enough\n",
        "\n",
        "How could i be so naive?!\n",
        "\n",
        "##### One day, with no signs of warning,\n",
        "This thing has finally converged and\n",
        "* unfortunatelly accuracy on validation and test sets didn't exceed 15%\n",
        "* I have tried adding BatchNorm layers but that didn't help as accuracy on the validation set was jumping up and down, while training loss was monotonously decreasing\n",
        "* It became obvious that I am facing a severe overfitting\n",
        "* But before fighting that problem I have decided to update my layers set to look like some well-known network\n",
        "\n",
        "##### Finally, after 3 iterations, 2 mugs of [tea/~~coffee~~]\n",
        "* I decided to start with the AlexNet\n",
        "* This alone didn't help as the overfitting didn't go anywhere and I still could not achieve accuracy more than 15%\n",
        "* So I decided to add Dropout layers and that actually helped so I could achieve 20% of accuracy on the first run with 50 epochs\n",
        "* There still is room for improvement as the training loss didn't reach its minimum\n",
        "* ...\n",
        "* Adding 100 more epochs, we could gain 3.5% of accuracy more, but that seems to be it. For further improvement we probably need to make more layers or add data augmentation.\n",
        "\n",
        "That, having wasted 6 [~~minutes~~, hours ~~or days~~] of my life training, got\n",
        "\n",
        "* accuracy on training: 29.75%\n",
        "* accuracy on validation: 23.57%\n",
        "* accuracy on test: 23.42%\n",
        "\n",
        "\n",
        "~~[an optional afterword and mortal curses on assignment authors]~~\n",
        "\n",
        "It's ok"
      ]
    },
    {
      "cell_type": "code",
      "metadata": {
        "id": "VzDY_u7HMeKU"
      },
      "source": [
        ""
      ],
      "execution_count": null,
      "outputs": []
    }
  ]
}